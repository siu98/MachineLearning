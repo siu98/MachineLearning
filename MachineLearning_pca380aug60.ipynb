{
 "cells": [
  {
   "cell_type": "code",
   "execution_count": 12,
   "id": "d7afefc7-2f7a-4737-892d-5ec89c7b2c87",
   "metadata": {},
   "outputs": [],
   "source": [
    "from glob import glob\n",
    "import pandas as pd\n",
    "import numpy as np\n",
    "import cv2\n",
    "import matplotlib.pyplot as plt\n",
    "from tqdm import tqdm"
   ]
  },
  {
   "cell_type": "code",
   "execution_count": 13,
   "id": "bed1f3f0-f58e-4f2e-bc9e-06b28500fd56",
   "metadata": {},
   "outputs": [],
   "source": [
    "## 경로 설정\n",
    "test_csv = './archive/fashion-mnist_test.csv'\n",
    "label_txt = './private_test_dataset/label.txt'\n",
    "private_test_img_dir_path = './private_test_dataset/data'\n",
    "\n",
    "test = pd.read_csv(test_csv)\n",
    "\n",
    "df = pd.DataFrame(columns=list(test.columns))\n",
    "\n",
    "with open(label_txt, 'r') as file1:\n",
    "    labels = file1.readlines()\n",
    "    \n",
    "l = np.array([label.strip().split()[1] for label in labels])\n",
    "\n",
    "img_path = glob(private_test_img_dir_path + '/*')\n",
    "img_path = sorted(img_path)\n",
    "\n",
    "df_list = []\n",
    "for idx, path in enumerate(img_path) :\n",
    "    img = cv2.imread(path, cv2.IMREAD_GRAYSCALE)\n",
    "    img = list(img.reshape(-1))\n",
    "    img.insert(0, -1)\n",
    "    \n",
    "    df_list.append(img)\n",
    "\n",
    "import csv\n",
    "\n",
    "csv_file_path = './private_data.csv'\n",
    "\n",
    "df.to_csv(csv_file_path, index=False)\n",
    "with open(csv_file_path, 'a', newline='') as csvfile:\n",
    "    csv_writer = csv.writer(csvfile)\n",
    "\n",
    "    # 각 행을 CSV 파일에 쓰기\n",
    "    for row in df_list:\n",
    "        csv_writer.writerow(row)"
   ]
  },
  {
   "cell_type": "code",
   "execution_count": 14,
   "id": "25a2dd56-77f1-4266-a7a8-5a7595291ede",
   "metadata": {},
   "outputs": [],
   "source": [
    "# Load training data\n",
    "training_data = pd.read_csv('./archive/fashion-mnist_train.csv')\n",
    "train_y = training_data['label']\n",
    "train_X = training_data.drop('label', axis=1)\n",
    "\n",
    "# Load test data \n",
    "public_test_data = pd.read_csv('./public/public_data.csv')\n",
    "private_test_data= pd.read_csv('./private/private_data.csv')\n",
    "\n",
    "public_test_y = public_test_data['label']\n",
    "public_test_X = public_test_data.drop('label', axis=1)\n",
    "\n",
    "private_test_y = private_test_data['label']\n",
    "private_test_X = private_test_data.drop('label', axis=1)"
   ]
  },
  {
   "cell_type": "code",
   "execution_count": 15,
   "id": "ddbd326e-6899-4064-8070-9dfac7a4f815",
   "metadata": {},
   "outputs": [],
   "source": [
    "from sklearn.decomposition import PCA\n",
    "from sklearn.metrics import accuracy_score\n",
    "from sklearn.svm import SVC\n",
    "import pandas as pd\n",
    "import numpy as np\n",
    "from tensorflow.keras.preprocessing.image import ImageDataGenerator\n"
   ]
  },
  {
   "cell_type": "code",
   "execution_count": 16,
   "id": "d95f185f-8a3f-41dc-bbec-9c47c413fb15",
   "metadata": {},
   "outputs": [],
   "source": [
    "datagen = ImageDataGenerator(\n",
    "    rotation_range=20,  # 랜덤 회전 각도 범위 [-20, 20]도\n",
    "    width_shift_range=0.1,  # 랜덤 좌우 이동\n",
    "    height_shift_range=0.1,  # 랜덤 상하 이동\n",
    "    shear_range=0.2,  # 변형\n",
    "    zoom_range=0.2,  # 랜덤 확대/축소\n",
    "    fill_mode='constant',\n",
    "    cval=0  # 신규로 생성된 픽셀을 채우는 데 사용되는 값\n",
    ")\n",
    "\n",
    "# 가정: train_X가 NumPy 배열임\n",
    "# 데이터를 28x28 이미지로 재구성\n",
    "reshaped_train_X = train_X.values.reshape(-1, 28, 28, 1)  # 그레이스케일 이미지를 가정\n"
   ]
  },
  {
   "cell_type": "code",
   "execution_count": 17,
   "id": "e09d1bdf-b82d-4207-a2e3-6dbc0eb42311",
   "metadata": {},
   "outputs": [],
   "source": [
    "aug_X = []\n",
    "aug_y = []\n",
    "\n",
    "# 원본 샘플 당 증강 횟수\n",
    "augmentation_factor = 60\n",
    "for X_batch, y_batch in datagen.flow(reshaped_train_X, train_y, batch_size=32):\n",
    "    aug_X.append(X_batch)\n",
    "    aug_y.append(y_batch)\n",
    "    \n",
    "    if len(aug_X) >= augmentation_factor:\n",
    "        break\n",
    "\n",
    "# 리스트를 NumPy 배열로 변환\n",
    "aug_X = np.concatenate(aug_X)\n",
    "aug_y = np.concatenate(aug_y)\n",
    "aug_X = aug_X.reshape(aug_X.shape[0], -1)\n",
    "# 원본 훈련 데이터를 평평하게 만듦\n",
    "train_X = reshaped_train_X.reshape(reshaped_train_X.shape[0], -1)\n",
    "\n",
    "# 원본과 증강된 데이터를 연결\n",
    "X_pre = np.concatenate([train_X, aug_X])\n",
    "y_pre = np.concatenate([train_y, aug_y])"
   ]
  },
  {
   "cell_type": "code",
   "execution_count": null,
   "id": "3a5ed786-8cac-4947-81ab-5a82a7b7a4a2",
   "metadata": {},
   "outputs": [],
   "source": [
    "pca = PCA(n_components=380)\n",
    "pca.fit(X_pre.reshape(len(X_pre), -1))\n",
    "pca_train_X = pca.transform(X_pre.reshape(len(X_pre), -1))\n",
    "public_test_X = pca.transform(public_test_X.values.reshape(len(public_test_X), -1))\n",
    "private_test_X = pca.transform(private_test_X.values.reshape(len(private_test_X), -1))\n",
    "\n",
    "# 전체 훈련 세트에서 모델 훈련\n",
    "svc = SVC(gamma='scale', kernel='rbf', C=8)\n",
    "svc.fit(pca_train_X, y_pre)\n",
    "\n",
    "# 테스트 세트에서 예측\n",
    "public_preds = svc.predict(public_test_X)\n",
    "private_preds = svc.predict(private_test_X)\n",
    "\n",
    "public_preds_dict = {image: label for image, label in enumerate(public_preds)}\n",
    "private_preds_dict = {image: label for image, label in enumerate(private_preds)}\n",
    "\n",
    "with open('./public/pca380_aug60_public_testResult.txt', 'w') as file:\n",
    "    for image, label in public_preds_dict.items():\n",
    "        file.write(f'{image:05d} {label}\\n')\n",
    "\n",
    "with open('./private/pca380_aug60_private_testResult.txt', 'w') as file:\n",
    "    for image, label in private_preds_dict.items():\n",
    "        file.write(f'{image:05d} {label}\\n')\n"
   ]
  }
 ],
 "metadata": {
  "kernelspec": {
   "display_name": "Python 3 (ipykernel)",
   "language": "python",
   "name": "python3"
  },
  "language_info": {
   "codemirror_mode": {
    "name": "ipython",
    "version": 3
   },
   "file_extension": ".py",
   "mimetype": "text/x-python",
   "name": "python",
   "nbconvert_exporter": "python",
   "pygments_lexer": "ipython3",
   "version": "3.11.5"
  }
 },
 "nbformat": 4,
 "nbformat_minor": 5
}
